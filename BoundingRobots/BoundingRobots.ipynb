{
 "cells": [
  {
   "cell_type": "markdown",
   "metadata": {},
   "source": [
    "## Bounding Robots"
   ]
  },
  {
   "cell_type": "code",
   "execution_count": 29,
   "metadata": {},
   "outputs": [],
   "source": [
    "while True:\n",
    "\n",
    "    w,l = [int(x) for x in input().split()]\n",
    "\n",
    "    if w == 0 and l == 0:\n",
    "        break\n",
    "\n",
    "    walking_segments = int(input())\n",
    "\n",
    "    actual_x = 0\n",
    "    actual_y = 0\n",
    "    robot_x = 0\n",
    "    robot_y = 0\n",
    "\n",
    "\n",
    "    for i in range(walking_segments):\n",
    "        \n",
    "        direction,distance = [x for x in input().split()]\n",
    "        distance = int(distance)\n",
    "\n",
    "        if direction == 'u':\n",
    "            robot_y += distance\n",
    "            actual_y = min(l-1, actual_y + distance)\n",
    "\n",
    "        elif direction == 'd':\n",
    "            robot_y -= distance\n",
    "            actual_y = max(0, actual_y - distance)\n",
    "\n",
    "        elif direction == 'r':\n",
    "            robot_x += distance\n",
    "            actual_x = min(w-1, actual_x + distance)\n",
    "\n",
    "        elif direction == 'l':\n",
    "            robot_x -= distance\n",
    "            actual_x = max(0, actual_x - distance)   \n",
    "\n",
    "\n",
    "\n",
    "\n",
    "    print(f\"Robot thinks {robot_x} {robot_y}\")\n",
    "    print(f\"Actually at {actual_x} {actual_y}\")"
   ]
  }
 ],
 "metadata": {
  "kernelspec": {
   "display_name": "Python 3",
   "language": "python",
   "name": "python3"
  },
  "language_info": {
   "codemirror_mode": {
    "name": "ipython",
    "version": 3
   },
   "file_extension": ".py",
   "mimetype": "text/x-python",
   "name": "python",
   "nbconvert_exporter": "python",
   "pygments_lexer": "ipython3",
   "version": "3.11.4"
  }
 },
 "nbformat": 4,
 "nbformat_minor": 2
}
