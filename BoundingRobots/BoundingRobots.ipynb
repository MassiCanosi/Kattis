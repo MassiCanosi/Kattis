{
 "cells": [
  {
   "cell_type": "markdown",
   "metadata": {},
   "source": [
    "## Bounding Robots"
   ]
  },
  {
   "cell_type": "code",
   "execution_count": null,
   "metadata": {},
   "outputs": [],
   "source": [
    "4 5 ## w l\n",
    "2 ## cammina due volte\n",
    "u 3 ## va giu di 3 con l = 5\n",
    "r 4 ## va a destra di 4 con w = 4"
   ]
  },
  {
   "cell_type": "code",
   "execution_count": 11,
   "metadata": {},
   "outputs": [
    {
     "name": "stdout",
     "output_type": "stream",
     "text": [
      "Robot thinks 0 7\n",
      "Actually at 0 11\n"
     ]
    },
    {
     "ename": "ValueError",
     "evalue": "not enough values to unpack (expected 2, got 0)",
     "output_type": "error",
     "traceback": [
      "\u001b[0;31m---------------------------------------------------------------------------\u001b[0m",
      "\u001b[0;31mValueError\u001b[0m                                Traceback (most recent call last)",
      "Cell \u001b[0;32mIn[11], line 3\u001b[0m\n\u001b[1;32m      1\u001b[0m \u001b[38;5;28;01mwhile\u001b[39;00m \u001b[38;5;28;01mTrue\u001b[39;00m:\n\u001b[0;32m----> 3\u001b[0m     w,l \u001b[38;5;241m=\u001b[39m [\u001b[38;5;28mint\u001b[39m(x) \u001b[38;5;28;01mfor\u001b[39;00m x \u001b[38;5;129;01min\u001b[39;00m \u001b[38;5;28minput\u001b[39m()\u001b[38;5;241m.\u001b[39msplit()]\n\u001b[1;32m      5\u001b[0m     \u001b[38;5;28;01mif\u001b[39;00m w \u001b[38;5;241m==\u001b[39m \u001b[38;5;241m0\u001b[39m \u001b[38;5;129;01mand\u001b[39;00m l \u001b[38;5;241m==\u001b[39m \u001b[38;5;241m0\u001b[39m:\n\u001b[1;32m      6\u001b[0m         \u001b[38;5;28;01mbreak\u001b[39;00m\n",
      "\u001b[0;31mValueError\u001b[0m: not enough values to unpack (expected 2, got 0)"
     ]
    }
   ],
   "source": [
    "while True:\n",
    "\n",
    "    w,l = [int(x) for x in input().split()]\n",
    "\n",
    "    if w == 0 and l == 0:\n",
    "        break\n",
    "\n",
    "    walking_segments = int(input())\n",
    "\n",
    "    x = 0\n",
    "    y = 0\n",
    "    robot_y = 0\n",
    "    actual_y = 0\n",
    "    accum_x = 0\n",
    "    accum_y = 0\n",
    "    cnt_x = 0\n",
    "    cnt_y = 0\n",
    "\n",
    "\n",
    "    for i in range(walking_segments):\n",
    "        \n",
    "        direction,distance = [x for x in input().split()]\n",
    "\n",
    "        distance = int(distance)\n",
    "\n",
    "        if direction == 'l':\n",
    "            accum_x -= distance\n",
    "\n",
    "            if abs(accum_x) < w:\n",
    "                cnt_x = accum_x           \n",
    "            elif abs(accum_x) == w:\n",
    "                cnt_x = -abs(accum_x) \n",
    "            \n",
    "        elif direction == 'r':\n",
    "            accum_x += distance\n",
    "\n",
    "            if accum_x <= w:\n",
    "                cnt_x = accum_x\n",
    "        \n",
    "\n",
    "        if direction == 'd':\n",
    "            accum_y -= distance\n",
    "\n",
    "            if abs(accum_y) < l:\n",
    "                cnt_y = accum_y\n",
    "            elif abs(accum_y) == l:\n",
    "                cnt_y = -abs(accum_y)\n",
    "            \n",
    "        elif direction == 'u':\n",
    "            accum_y += distance\n",
    "\n",
    "            if accum_y <= l:\n",
    "                cnt_y = accum_y\n",
    "         \n",
    "\n",
    "    print(f\"Robot thinks {accum_x} {accum_y}\")\n",
    "    print(f\"Actually at {cnt_x} {cnt_y}\")"
   ]
  }
 ],
 "metadata": {
  "kernelspec": {
   "display_name": "Python 3",
   "language": "python",
   "name": "python3"
  },
  "language_info": {
   "codemirror_mode": {
    "name": "ipython",
    "version": 3
   },
   "file_extension": ".py",
   "mimetype": "text/x-python",
   "name": "python",
   "nbconvert_exporter": "python",
   "pygments_lexer": "ipython3",
   "version": "3.11.4"
  }
 },
 "nbformat": 4,
 "nbformat_minor": 2
}
