{
 "cells": [
  {
   "cell_type": "markdown",
   "metadata": {},
   "source": [
    "## Card Trick"
   ]
  },
  {
   "cell_type": "code",
   "execution_count": null,
   "metadata": {},
   "outputs": [],
   "source": [
    "n = int(input())\n",
    "\n",
    "for i in range(n):\n",
    "\n",
    "    cards = int(input())\n",
    "    deck = []\n",
    "\n",
    "    for i in range(cards, 0, -1):\n",
    "        deck.insert(0, i)\n",
    "\n",
    "        for j in range(0, i):\n",
    "            deck.insert(0, deck.pop())\n",
    "\n",
    "    deck_str = [str(i) for i in deck]\n",
    "\n",
    "    print(\" \".join(deck_str))"
   ]
  }
 ],
 "metadata": {
  "language_info": {
   "name": "python"
  }
 },
 "nbformat": 4,
 "nbformat_minor": 2
}
