{
 "cells": [
  {
   "cell_type": "markdown",
   "metadata": {},
   "source": [
    "## Egypt\n"
   ]
  },
  {
   "cell_type": "code",
   "execution_count": 14,
   "metadata": {},
   "outputs": [],
   "source": [
    "l1,l2,hypotenuse = 10,10,10\n",
    "\n",
    "while (l1+l2+hypotenuse) != 0:\n",
    "\n",
    "    side_input = list(map(int,input().split()))\n",
    "\n",
    "    sides_sorted = sorted(side_input)\n",
    "\n",
    "    l1 = sides_sorted[0]\n",
    "    l2 = sides_sorted[1]\n",
    "    hypotenuse = sides_sorted[2]\n",
    "\n",
    "    if (l1+l2+hypotenuse) == 0:\n",
    "        break\n",
    "\n",
    "    if (l1**2+l2**2) == hypotenuse**2:\n",
    "        print(\"right\")\n",
    "    else:\n",
    "        print(\"wrong\")"
   ]
  }
 ],
 "metadata": {
  "kernelspec": {
   "display_name": "base",
   "language": "python",
   "name": "python3"
  },
  "language_info": {
   "codemirror_mode": {
    "name": "ipython",
    "version": 3
   },
   "file_extension": ".py",
   "mimetype": "text/x-python",
   "name": "python",
   "nbconvert_exporter": "python",
   "pygments_lexer": "ipython3",
   "version": "3.11.4"
  }
 },
 "nbformat": 4,
 "nbformat_minor": 2
}
