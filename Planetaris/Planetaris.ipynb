{
 "cells": [
  {
   "cell_type": "markdown",
   "metadata": {},
   "source": [
    "## Planetaris"
   ]
  },
  {
   "cell_type": "code",
   "execution_count": null,
   "metadata": {},
   "outputs": [],
   "source": [
    "solar_systems, ships = [int(x) for x in input().split()]\n",
    "\n",
    "total_rival_ships = sorted([int(x) for x in input().split()])\n",
    "\n",
    "remaining_ships = 0\n",
    "won_battles = 0\n",
    "\n",
    "for rival_ship in total_rival_ships:\n",
    "    if ships > rival_ship:\n",
    "        ships -= rival_ship+1\n",
    "        won_battles += 1\n",
    "print(won_battles)"
   ]
  }
 ],
 "metadata": {
  "language_info": {
   "name": "python"
  }
 },
 "nbformat": 4,
 "nbformat_minor": 2
}
