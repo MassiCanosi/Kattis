{
 "cells": [
  {
   "cell_type": "markdown",
   "metadata": {},
   "source": [
    "## Boat Parts"
   ]
  },
  {
   "cell_type": "code",
   "execution_count": null,
   "metadata": {},
   "outputs": [],
   "source": [
    "P,N = map(int, input().split())\n",
    "\n",
    "boat_parts = []\n",
    "boat_parts_matching = []\n",
    "\n",
    "for i in range(N):\n",
    "    boat_part = input()\n",
    "    boat_parts.append(boat_part)\n",
    "    if boat_part not in boat_parts_matching:\n",
    "        boat_parts_matching.append(boat_part)\n",
    "\n",
    "to_match = boat_parts_matching[-1]\n",
    "\n",
    "otp = int(boat_parts.index(to_match)) + 1\n",
    "\n",
    "if len(set(boat_parts)) >= P:\n",
    "    print(otp)\n",
    "else:\n",
    "    print(\"paradox avoided\")"
   ]
  }
 ],
 "metadata": {
  "language_info": {
   "name": "python"
  }
 },
 "nbformat": 4,
 "nbformat_minor": 2
}
