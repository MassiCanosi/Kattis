{
 "cells": [
  {
   "cell_type": "markdown",
   "metadata": {},
   "source": [
    "# Cryptographer's Conundrum"
   ]
  },
  {
   "cell_type": "code",
   "execution_count": 16,
   "metadata": {},
   "outputs": [],
   "source": [
    "user_input = input().upper()\n",
    "\n",
    "N = len(user_input)\n",
    "\n",
    "input_adj = user_input[::].upper()\n",
    "\n",
    "lst = ['P', 'E', 'R']\n",
    "\n",
    "iterations_required = lst * (N//3)\n",
    "\n",
    "days_accum = 0\n",
    "\n",
    "for index, item in enumerate(input_adj):\n",
    "    if item != iterations_required[index]:\n",
    "        input_adj = f\"{input_adj[:index]}{iterations_required[index]}{input_adj[index+1:]}\"\n",
    "        days_accum += 1\n",
    "\n",
    "    \n",
    "print(days_accum)"
   ]
  }
 ],
 "metadata": {
  "kernelspec": {
   "display_name": "base",
   "language": "python",
   "name": "python3"
  },
  "language_info": {
   "codemirror_mode": {
    "name": "ipython",
    "version": 3
   },
   "file_extension": ".py",
   "mimetype": "text/x-python",
   "name": "python",
   "nbconvert_exporter": "python",
   "pygments_lexer": "ipython3",
   "version": "3.11.4"
  }
 },
 "nbformat": 4,
 "nbformat_minor": 2
}
