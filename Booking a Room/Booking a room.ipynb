{
 "cells": [
  {
   "cell_type": "markdown",
   "metadata": {},
   "source": [
    "## Booking a Room"
   ]
  },
  {
   "cell_type": "code",
   "execution_count": null,
   "metadata": {},
   "outputs": [],
   "source": [
    "hotel_input = [int(x) for x in input().split()]\n",
    "\n",
    "n_lines = hotel_input[1]\n",
    "\n",
    "nums = [str(x) for x in range(1,hotel_input[0]+1)]\n",
    "\n",
    "user_inputs = []\n",
    "\n",
    "for i in range(n_lines):\n",
    "    user_inputs.append(input())\n",
    "\n",
    "otp = [str(x) for x in nums if x not in user_inputs]\n",
    "\n",
    "if len(otp) > 0:\n",
    "    result = otp.pop()\n",
    "else:\n",
    "    result = \"too late\"\n",
    "\n",
    "print(result)"
   ]
  }
 ],
 "metadata": {
  "language_info": {
   "name": "python"
  }
 },
 "nbformat": 4,
 "nbformat_minor": 2
}
