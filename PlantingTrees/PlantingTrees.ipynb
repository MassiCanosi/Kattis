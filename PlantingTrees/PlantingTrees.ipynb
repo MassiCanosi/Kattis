{
 "cells": [
  {
   "cell_type": "markdown",
   "metadata": {},
   "source": [
    "## Planting Trees"
   ]
  },
  {
   "cell_type": "code",
   "execution_count": 114,
   "metadata": {},
   "outputs": [],
   "source": [
    "seeds = int(input())\n",
    "\n",
    "seed_ttg = input().split(\" \")\n",
    "\n",
    "time_to_grow = sorted([int(i) for i in seed_ttg], reverse=True)\n",
    "\n",
    "max_mature_day = 0\n",
    "\n",
    "for i in range(seeds):\n",
    "    maturity_day = (i + 1) + time_to_grow[i]\n",
    "    print(maturity_day)\n",
    "    max_mature_day = max(max_mature_day, maturity_day)\n",
    "\n",
    "party_day = max_mature_day + 1\n",
    "\n",
    "print(party_day)"
   ]
  }
 ],
 "metadata": {
  "kernelspec": {
   "display_name": "base",
   "language": "python",
   "name": "python3"
  },
  "language_info": {
   "codemirror_mode": {
    "name": "ipython",
    "version": 3
   },
   "file_extension": ".py",
   "mimetype": "text/x-python",
   "name": "python",
   "nbconvert_exporter": "python",
   "pygments_lexer": "ipython3",
   "version": "3.11.4"
  }
 },
 "nbformat": 4,
 "nbformat_minor": 2
}
