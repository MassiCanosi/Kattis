{
 "cells": [
  {
   "cell_type": "markdown",
   "metadata": {},
   "source": [
    "# Minimum Scalar Product"
   ]
  },
  {
   "cell_type": "code",
   "execution_count": null,
   "metadata": {},
   "outputs": [],
   "source": [
    "tests = int(input())\n",
    "\n",
    "for i in range(tests):\n",
    "\n",
    "    num_of_elements = int(input())\n",
    "\n",
    "    accum = 0 \n",
    "\n",
    "    first_vector = sorted([int(x) for x in input().split()])\n",
    "    second_vector = sorted([int(x) for x in input().split()], reverse=True)\n",
    "\n",
    "    for x in range(num_of_elements):\n",
    "\n",
    "        accum += first_vector[x]*second_vector[x]\n",
    "\n",
    "    print(\"Case #\" + str(i+1) + \": \" + str(accum))"
   ]
  }
 ],
 "metadata": {
  "language_info": {
   "name": "python"
  }
 },
 "nbformat": 4,
 "nbformat_minor": 2
}
