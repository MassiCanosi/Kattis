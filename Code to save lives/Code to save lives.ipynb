{
 "cells": [
  {
   "cell_type": "markdown",
   "metadata": {},
   "source": [
    "## Code to save lives"
   ]
  },
  {
   "cell_type": "code",
   "execution_count": 5,
   "metadata": {},
   "outputs": [],
   "source": [
    "num_tests = int(input())\n",
    "\n",
    "\n",
    "numbers = []\n",
    "\n",
    "for test in range(num_tests*2):\n",
    "\n",
    "    numbers.append(input().strip())\n",
    "\n",
    "\n",
    "numbers_stripped = [int(i.replace(\" \", \"\")) for i in numbers]\n",
    "\n",
    "accum = 0 \n",
    "sum_list = []\n",
    "\n",
    "for i in range(len(numbers_stripped)//2):\n",
    "\n",
    "    summed = numbers_stripped[accum] + numbers_stripped[accum + 1]\n",
    "    sum_list.append(str(summed))\n",
    "    accum += 2\n",
    "\n",
    "\n",
    "final_lst = []\n",
    "\n",
    "for number in sum_list:\n",
    "\n",
    "    final_string = ''\n",
    "    \n",
    "    value = number\n",
    "    \n",
    "    digits_num_nostrip = len(value)\n",
    "\n",
    "    for char in value:\n",
    "\n",
    "        final_string += char + \" \"\n",
    "\n",
    "        digits_num_withspace = len(final_string)//2\n",
    "\n",
    "        if digits_num_withspace == digits_num_nostrip:\n",
    "\n",
    "            final_lst.append(final_string)\n",
    "\n",
    "\n",
    "for result in final_lst:\n",
    "    print(result)"
   ]
  }
 ],
 "metadata": {
  "kernelspec": {
   "display_name": "base",
   "language": "python",
   "name": "python3"
  },
  "language_info": {
   "codemirror_mode": {
    "name": "ipython",
    "version": 3
   },
   "file_extension": ".py",
   "mimetype": "text/x-python",
   "name": "python",
   "nbconvert_exporter": "python",
   "pygments_lexer": "ipython3",
   "version": "3.11.4"
  }
 },
 "nbformat": 4,
 "nbformat_minor": 2
}
