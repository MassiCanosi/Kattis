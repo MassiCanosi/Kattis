{
 "cells": [
  {
   "cell_type": "markdown",
   "metadata": {},
   "source": [
    "## Kitten on a Tree"
   ]
  },
  {
   "cell_type": "code",
   "execution_count": 21,
   "metadata": {},
   "outputs": [],
   "source": [
    "input_lst = []\n",
    "\n",
    "while True:\n",
    "\n",
    "    value = [int(i) for i in input().split(\" \")]\n",
    "\n",
    "    if value[0] == -1:\n",
    "        break\n",
    "    else:\n",
    "        input_lst.append(value)\n",
    "\n",
    "\n",
    "starting_point = input_lst[0][0]\n",
    "\n",
    "root = input_lst[1][0]\n",
    "\n",
    "path = [starting_point]\n",
    "\n",
    "while starting_point != root:\n",
    "\n",
    "    for lst in input_lst[1:]:\n",
    "\n",
    "            if starting_point in lst:\n",
    "\n",
    "                starting_point = lst[0]\n",
    "\n",
    "                path.append(starting_point)\n",
    "\n",
    "final = \" \".join([str(i) for i in path])\n",
    "\n",
    "print(final)"
   ]
  }
 ],
 "metadata": {
  "kernelspec": {
   "display_name": "base",
   "language": "python",
   "name": "python3"
  },
  "language_info": {
   "codemirror_mode": {
    "name": "ipython",
    "version": 3
   },
   "file_extension": ".py",
   "mimetype": "text/x-python",
   "name": "python",
   "nbconvert_exporter": "python",
   "pygments_lexer": "ipython3",
   "version": "3.11.4"
  }
 },
 "nbformat": 4,
 "nbformat_minor": 2
}
