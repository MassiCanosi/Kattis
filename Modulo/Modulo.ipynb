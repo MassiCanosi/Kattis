{
 "cells": [
  {
   "cell_type": "markdown",
   "metadata": {},
   "source": [
    "# Modulo"
   ]
  },
  {
   "cell_type": "code",
   "execution_count": null,
   "metadata": {},
   "outputs": [],
   "source": [
    "# 2024-01-31\n",
    "# massimiliano.canosi\n",
    "\n",
    "input_lst = []\n",
    "\n",
    "for i in range(10):\n",
    "    user_input = input()\n",
    "    input_lst.append(int(user_input))\n",
    "\n",
    "otp = []\n",
    "\n",
    "for i in input_lst:\n",
    "    result = i % 42\n",
    "    otp.append(result)\n",
    "\n",
    "if len(set(otp)) == 0:\n",
    "    print(int(1))\n",
    "else:\n",
    "    print(int(len(set(otp))))\n",
    "\n",
    "\n",
    "# end"
   ]
  }
 ],
 "metadata": {
  "kernelspec": {
   "display_name": "base",
   "language": "python",
   "name": "python3"
  },
  "language_info": {
   "codemirror_mode": {
    "name": "ipython",
    "version": 3
   },
   "file_extension": ".py",
   "mimetype": "text/x-python",
   "name": "python",
   "nbconvert_exporter": "python",
   "pygments_lexer": "ipython3",
   "version": "3.11.4"
  }
 },
 "nbformat": 4,
 "nbformat_minor": 2
}
