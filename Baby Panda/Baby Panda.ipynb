{
 "cells": [
  {
   "cell_type": "markdown",
   "metadata": {},
   "source": [
    "# Baby Panda"
   ]
  },
  {
   "cell_type": "code",
   "execution_count": null,
   "metadata": {},
   "outputs": [],
   "source": [
    "days,slimes = map(int, input().split())\n",
    "\n",
    "base = 2\n",
    "\n",
    "exponential_results = []\n",
    "\n",
    "while base <= slimes:\n",
    "    exponential_results.append(base)\n",
    "    base *= 2\n",
    "\n",
    "exponential_results = sorted(exponential_results, reverse=True)\n",
    "\n",
    "num_to_use = []\n",
    "\n",
    "for i in exponential_results:\n",
    "    if slimes - i >= 0:\n",
    "        num_to_use.append(i)\n",
    "        slimes -= i\n",
    "\n",
    "print(len(num_to_use))"
   ]
  }
 ],
 "metadata": {
  "language_info": {
   "name": "python"
  }
 },
 "nbformat": 4,
 "nbformat_minor": 2
}
