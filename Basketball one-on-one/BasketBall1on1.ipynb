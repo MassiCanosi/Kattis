{
 "cells": [
  {
   "cell_type": "markdown",
   "metadata": {},
   "source": [
    "## Basketball One-on-One"
   ]
  },
  {
   "cell_type": "code",
   "execution_count": null,
   "metadata": {},
   "outputs": [],
   "source": [
    "usr_input = input()\n",
    "n = 2\n",
    "A_score = 0\n",
    "B_score = 0\n",
    "\n",
    "for point in range(0, len(usr_input), n):\n",
    "    record = usr_input[point:point+n]\n",
    "    if \"A\" in record:\n",
    "        A_score += int(record[1])\n",
    "    elif \"B\" in record:\n",
    "        B_score += int(record[1])\n",
    "\n",
    "if A_score > B_score:\n",
    "    print(\"A\")\n",
    "elif A_score < B_score:\n",
    "    print(\"B\")"
   ]
  }
 ],
 "metadata": {
  "language_info": {
   "name": "python"
  }
 },
 "nbformat": 4,
 "nbformat_minor": 2
}
