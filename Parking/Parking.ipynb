{
 "cells": [
  {
   "cell_type": "markdown",
   "metadata": {},
   "source": [
    "## Parking"
   ]
  },
  {
   "cell_type": "code",
   "execution_count": 18,
   "metadata": {},
   "outputs": [
    {
     "name": "stdout",
     "output_type": "stream",
     "text": [
      "230\n"
     ]
    }
   ],
   "source": [
    "A,B,C = map(int, input().split())\n",
    "\n",
    "hours = []\n",
    "\n",
    "for i in range(3):\n",
    "    truck_hours = list(map(int, input().split()))\n",
    "    hours.append(truck_hours)\n",
    "\n",
    "full_lenght = []\n",
    "\n",
    "for i in hours:\n",
    "    start = i[0]\n",
    "    stop = i[1]\n",
    "    full_hours = [i+1 for i in range(start-1,stop-1)]\n",
    "    full_lenght.append(full_hours)\n",
    "    \n",
    "counter = {}\n",
    "\n",
    "for lst in full_lenght:\n",
    "    for char in lst:\n",
    "        if char not in counter:\n",
    "            counter[char] = 1\n",
    "        else: \n",
    "            counter[char] += 1\n",
    "\n",
    "to_pay = 0\n",
    "\n",
    "for k,v in counter.items():\n",
    "    if v == 1:\n",
    "        to_pay += A\n",
    "    elif v == 2:\n",
    "        to_pay += (B*2)\n",
    "    elif v == 3:\n",
    "        to_pay += (C*3)\n",
    "\n",
    "print(to_pay)"
   ]
  }
 ],
 "metadata": {
  "kernelspec": {
   "display_name": "base",
   "language": "python",
   "name": "python3"
  },
  "language_info": {
   "codemirror_mode": {
    "name": "ipython",
    "version": 3
   },
   "file_extension": ".py",
   "mimetype": "text/x-python",
   "name": "python",
   "nbconvert_exporter": "python",
   "pygments_lexer": "ipython3",
   "version": "3.11.4"
  }
 },
 "nbformat": 4,
 "nbformat_minor": 2
}
