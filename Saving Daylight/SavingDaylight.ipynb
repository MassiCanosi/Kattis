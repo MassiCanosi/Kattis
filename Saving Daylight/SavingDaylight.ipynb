{
 "cells": [
  {
   "cell_type": "markdown",
   "metadata": {},
   "source": [
    "# Saving Daylight"
   ]
  },
  {
   "cell_type": "code",
   "execution_count": null,
   "metadata": {},
   "outputs": [],
   "source": [
    "from datetime import datetime\n",
    "\n",
    "for i in range(1,1000): \n",
    "    try:\n",
    "        month,day,year,rise,set_time = [x for x in input().split()]\n",
    "\n",
    "        rise = datetime.strptime(rise, '%H:%M')\n",
    "        set_time = datetime.strptime(set_time, '%H:%M')\n",
    "\n",
    "        daylight = set_time - rise\n",
    "\n",
    "        hours,minutes,seconds = [x for x in str(daylight).split(\":\")]\n",
    "\n",
    "        if minutes.startswith(\"0\"):\n",
    "            minutes = minutes[1]\n",
    "\n",
    "        print(f\"{month} {day} {year} {hours} hours {minutes} minutes\")\n",
    "\n",
    "    except EOFError:\n",
    "        pass\n",
    "    "
   ]
  }
 ],
 "metadata": {
  "language_info": {
   "name": "python"
  }
 },
 "nbformat": 4,
 "nbformat_minor": 2
}
