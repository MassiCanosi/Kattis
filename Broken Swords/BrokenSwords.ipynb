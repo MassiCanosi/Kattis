{
 "cells": [
  {
   "cell_type": "markdown",
   "metadata": {},
   "source": [
    "## Broken Swords"
   ]
  },
  {
   "cell_type": "code",
   "execution_count": 130,
   "metadata": {},
   "outputs": [],
   "source": [
    "broken_swords = int(input())\n",
    "\n",
    "slats_binary_strings = []\n",
    "\n",
    "for i in range(broken_swords):\n",
    "    usr_input = input().split()\n",
    "    temp_lst = []\n",
    "    for _ in usr_input:\n",
    "        for char in _:\n",
    "            temp_lst.append(int(char))\n",
    "    slats_binary_strings.append(temp_lst)\n",
    "\n",
    "\n",
    "components = {'T': 0, 'L': 0}\n",
    "\n",
    "for lst in slats_binary_strings:\n",
    "\n",
    "    if lst[0] == 0:\n",
    "        components['T'] += 1\n",
    "    if lst[1] == 0:\n",
    "        components['T'] += 1\n",
    "    if lst[2] == 0:\n",
    "        components['L'] += 1\n",
    "    if lst[3] == 0:\n",
    "        components['L'] += 1\n",
    "\n",
    "buildable_TB = components['T']//2\n",
    "buildable_LR = components['L']//2\n",
    "\n",
    "buildable = min(buildable_TB, buildable_LR)\n",
    "\n",
    "remaining_TB = components['T'] - (buildable*2)\n",
    "remaining_LR = components['L'] - (buildable*2)\n",
    "\n",
    "\n",
    "print(buildable, remaining_TB, remaining_LR)"
   ]
  }
 ],
 "metadata": {
  "kernelspec": {
   "display_name": "base",
   "language": "python",
   "name": "python3"
  },
  "language_info": {
   "codemirror_mode": {
    "name": "ipython",
    "version": 3
   },
   "file_extension": ".py",
   "mimetype": "text/x-python",
   "name": "python",
   "nbconvert_exporter": "python",
   "pygments_lexer": "ipython3",
   "version": "3.11.4"
  }
 },
 "nbformat": 4,
 "nbformat_minor": 2
}
