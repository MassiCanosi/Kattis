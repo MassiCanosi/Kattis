{
 "cells": [
  {
   "cell_type": "markdown",
   "metadata": {},
   "source": [
    "## Kattis: Odd Man Out Solution"
   ]
  },
  {
   "cell_type": "code",
   "execution_count": null,
   "metadata": {},
   "outputs": [],
   "source": [
    "# 2024-01-31\n",
    "# massimiliano.canosi\n",
    "\n",
    "\n",
    "n= int(input())\n",
    "\n",
    "lst_otp = []\n",
    "\n",
    "for i in range(1,n+1):\n",
    "\n",
    "    g = input()\n",
    "\n",
    "    lst = [int(x) for x in input().split(\" \")]\n",
    "\n",
    "    for x in lst:\n",
    "        if lst.count(x) == 1:\n",
    "            odd_out = x \n",
    "    \n",
    "    lst_otp.append(f\"Case #{i}: {odd_out}\")\n",
    "\n",
    "for i in lst_otp:\n",
    "    print(f\"{i}\")\n",
    "\n",
    "\n",
    "# end"
   ]
  }
 ],
 "metadata": {
  "language_info": {
   "name": "python"
  }
 },
 "nbformat": 4,
 "nbformat_minor": 2
}
