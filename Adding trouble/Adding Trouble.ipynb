{
 "cells": [
  {
   "cell_type": "markdown",
   "metadata": {},
   "source": [
    "## Adding trouble"
   ]
  },
  {
   "cell_type": "code",
   "execution_count": null,
   "metadata": {},
   "outputs": [],
   "source": [
    "def check_sum(a,b,c):\n",
    "    otp = a+b\n",
    "    if otp == c:\n",
    "        return 'correct!'\n",
    "    else:\n",
    "        return 'wrong!'\n",
    "    \n",
    "a, b, c = map(int, input().split())\n",
    "    \n",
    "result = check_sum(a,b,c)\n",
    "\n",
    "print(result)"
   ]
  }
 ],
 "metadata": {
  "language_info": {
   "name": "python"
  }
 },
 "nbformat": 4,
 "nbformat_minor": 2
}
