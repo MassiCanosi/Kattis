{
 "cells": [
  {
   "cell_type": "markdown",
   "metadata": {},
   "source": [
    "## HOWL"
   ]
  },
  {
   "cell_type": "code",
   "execution_count": 6,
   "metadata": {},
   "outputs": [],
   "source": [
    "fenrir = input()\n",
    "\n",
    "enemy_howl = []\n",
    "\n",
    "for i in fenrir:\n",
    "    enemy_howl.append(i)\n",
    "\n",
    "\n",
    "my_howl = enemy_howl.copy()\n",
    "\n",
    "for i,v in enumerate(enemy_howl):\n",
    "    if enemy_howl[i] == 'A' and enemy_howl[i-1] != 'H':\n",
    "        my_howl[i] = 'AAA'\n",
    "    elif enemy_howl[i] == 'O':\n",
    "        my_howl[i] = 'OOO'\n",
    "\n",
    "print(''.join(my_howl))"
   ]
  }
 ],
 "metadata": {
  "kernelspec": {
   "display_name": "base",
   "language": "python",
   "name": "python3"
  },
  "language_info": {
   "codemirror_mode": {
    "name": "ipython",
    "version": 3
   },
   "file_extension": ".py",
   "mimetype": "text/x-python",
   "name": "python",
   "nbconvert_exporter": "python",
   "pygments_lexer": "ipython3",
   "version": "3.11.4"
  }
 },
 "nbformat": 4,
 "nbformat_minor": 2
}
