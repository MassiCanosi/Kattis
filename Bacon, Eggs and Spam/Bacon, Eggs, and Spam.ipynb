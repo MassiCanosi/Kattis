{
 "cells": [
  {
   "cell_type": "markdown",
   "metadata": {},
   "source": [
    "## Bacon, Eggs, and Spam"
   ]
  },
  {
   "cell_type": "code",
   "execution_count": 56,
   "metadata": {},
   "outputs": [],
   "source": [
    "visistors_num = -1\n",
    "\n",
    "while visistors_num != 0:\n",
    "\n",
    "    visistors_num = int(input())\n",
    "\n",
    "    ordered_items = {}\n",
    "\n",
    "    for n in range(visistors_num):\n",
    "        order = input().split(\" \")\n",
    "        customer = order[0]\n",
    "        food = sorted(order[1:])\n",
    "        ordered_items[customer] = food\n",
    "\n",
    "    otp_dict = {}\n",
    "\n",
    "    for k,v in ordered_items.items():\n",
    "        for elem in v:\n",
    "            if elem not in otp_dict:\n",
    "                otp_dict[elem] = [k] \n",
    "            else:\n",
    "                otp_dict[elem].append(k)\n",
    "\n",
    "\n",
    "    otp_lst = []\n",
    "\n",
    "    for k,v in otp_dict.items():\n",
    "        v = sorted(v)\n",
    "        text = str(k) + \" \" + \" \".join(v)\n",
    "        otp_lst.append(text)\n",
    "\n",
    "    for otp in sorted(otp_lst):\n",
    "        print(otp)\n",
    "    print(\" \")"
   ]
  }
 ],
 "metadata": {
  "kernelspec": {
   "display_name": "base",
   "language": "python",
   "name": "python3"
  },
  "language_info": {
   "codemirror_mode": {
    "name": "ipython",
    "version": 3
   },
   "file_extension": ".py",
   "mimetype": "text/x-python",
   "name": "python",
   "nbconvert_exporter": "python",
   "pygments_lexer": "ipython3",
   "version": "3.11.4"
  }
 },
 "nbformat": 4,
 "nbformat_minor": 2
}
