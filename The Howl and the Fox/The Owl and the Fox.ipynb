{
 "cells": [
  {
   "cell_type": "markdown",
   "metadata": {},
   "source": [
    "## \tThe Owl and the Fox"
   ]
  },
  {
   "cell_type": "code",
   "execution_count": 348,
   "metadata": {},
   "outputs": [],
   "source": [
    "test_cases = int(input())\n",
    "tests = []\n",
    "for test in range(test_cases):\n",
    "    tests.append(int(input()))\n",
    "\n",
    "otp_lst = []\n",
    "\n",
    "for index, test in enumerate(tests):\n",
    "    threshold = 0\n",
    "\n",
    "    for char in str(test):\n",
    "        threshold += int(char)\n",
    "\n",
    "    threshold_final = threshold - 1\n",
    "\n",
    "    if threshold_final > 0:\n",
    "    \n",
    "        for num in range(test-1, 0, -1):\n",
    "            char_sum = 0\n",
    "\n",
    "            for char in str(num):\n",
    "                char_sum += int(char)\n",
    "            \n",
    "            if char_sum == threshold_final:\n",
    "                otp_lst.append(num)\n",
    "                break\n",
    "    else:\n",
    "        otp_lst.append(0)\n",
    "\n",
    "for i in otp_lst:\n",
    "    print(i)"
   ]
  }
 ],
 "metadata": {
  "kernelspec": {
   "display_name": "base",
   "language": "python",
   "name": "python3"
  },
  "language_info": {
   "codemirror_mode": {
    "name": "ipython",
    "version": 3
   },
   "file_extension": ".py",
   "mimetype": "text/x-python",
   "name": "python",
   "nbconvert_exporter": "python",
   "pygments_lexer": "ipython3",
   "version": "3.11.4"
  }
 },
 "nbformat": 4,
 "nbformat_minor": 2
}
