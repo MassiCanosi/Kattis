{
 "cells": [
  {
   "cell_type": "markdown",
   "metadata": {},
   "source": [
    "## Average Character"
   ]
  },
  {
   "cell_type": "code",
   "execution_count": 1,
   "metadata": {},
   "outputs": [],
   "source": [
    "usr_input = input()\n",
    "ascii_values = [ord(char) for char in usr_input]\n",
    "accum = 0\n",
    "\n",
    "for i in ascii_values:\n",
    "    accum += i\n",
    "\n",
    "mean = accum//len(ascii_values)\n",
    "\n",
    "otp = chr(mean)\n",
    "print(otp)"
   ]
  }
 ],
 "metadata": {
  "kernelspec": {
   "display_name": "base",
   "language": "python",
   "name": "python3"
  },
  "language_info": {
   "codemirror_mode": {
    "name": "ipython",
    "version": 3
   },
   "file_extension": ".py",
   "mimetype": "text/x-python",
   "name": "python",
   "nbconvert_exporter": "python",
   "pygments_lexer": "ipython3",
   "version": "3.11.4"
  }
 },
 "nbformat": 4,
 "nbformat_minor": 2
}
