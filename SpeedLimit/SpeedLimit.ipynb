{
 "cells": [
  {
   "cell_type": "markdown",
   "metadata": {},
   "source": [
    "# Speed Limit"
   ]
  },
  {
   "cell_type": "code",
   "execution_count": 1,
   "metadata": {},
   "outputs": [],
   "source": [
    "while True: \n",
    "\n",
    "    datasets = int(input())\n",
    "\n",
    "    if datasets != -1:\n",
    "\n",
    "        for i in range(datasets):\n",
    "\n",
    "            if i == 0:\n",
    "\n",
    "                s,t = [int(x) for x in input().split()]\n",
    "\n",
    "                time_input = t\n",
    "\n",
    "                distance_driven = s * t\n",
    "\n",
    "            else:\n",
    "\n",
    "                s_suc,t_suc = [int(x) for x in input().split()]\n",
    "\n",
    "                difference_hour_count = t_suc - time_input \n",
    "\n",
    "                distance_driven += s_suc * difference_hour_count\n",
    "\n",
    "                time_input = t_suc\n",
    "\n",
    "\n",
    "        print(f\"{distance_driven} miles\")\n",
    "\n",
    "    else: \n",
    "        break"
   ]
  }
 ],
 "metadata": {
  "kernelspec": {
   "display_name": "base",
   "language": "python",
   "name": "python3"
  },
  "language_info": {
   "codemirror_mode": {
    "name": "ipython",
    "version": 3
   },
   "file_extension": ".py",
   "mimetype": "text/x-python",
   "name": "python",
   "nbconvert_exporter": "python",
   "pygments_lexer": "ipython3",
   "version": "3.11.4"
  }
 },
 "nbformat": 4,
 "nbformat_minor": 2
}
