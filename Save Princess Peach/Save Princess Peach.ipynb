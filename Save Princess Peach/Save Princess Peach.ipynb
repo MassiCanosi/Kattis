{
 "cells": [
  {
   "cell_type": "markdown",
   "metadata": {},
   "source": [
    "## Save Princess Peach"
   ]
  },
  {
   "cell_type": "code",
   "execution_count": 46,
   "metadata": {},
   "outputs": [],
   "source": [
    "N, Y = map(int, input().split())\n",
    "\n",
    "obstacles = []\n",
    "\n",
    "for i in range(Y):\n",
    "    obstacles.append(int(input()))\n",
    "    \n",
    "correct_obstacles = []\n",
    "\n",
    "for obstacle in obstacles:\n",
    "    if obstacle < N:\n",
    "        correct_obstacles.append(obstacle)\n",
    "\n",
    "distinct_obstacles = list(set(correct_obstacles))\n",
    "\n",
    "final = [i for i in range(N)]\n",
    "\n",
    "for obs in distinct_obstacles:\n",
    "    final.remove(obs)\n",
    "\n",
    "for i in final:\n",
    "    print(i)\n",
    "print(f\"Mario got {len(distinct_obstacles)} of the dangerous obstacles.\")"
   ]
  }
 ],
 "metadata": {
  "kernelspec": {
   "display_name": "base",
   "language": "python",
   "name": "python3"
  },
  "language_info": {
   "codemirror_mode": {
    "name": "ipython",
    "version": 3
   },
   "file_extension": ".py",
   "mimetype": "text/x-python",
   "name": "python",
   "nbconvert_exporter": "python",
   "pygments_lexer": "ipython3",
   "version": "3.11.4"
  }
 },
 "nbformat": 4,
 "nbformat_minor": 2
}
