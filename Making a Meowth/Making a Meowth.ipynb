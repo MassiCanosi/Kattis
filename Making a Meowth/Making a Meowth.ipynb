{
 "cells": [
  {
   "cell_type": "markdown",
   "metadata": {},
   "source": [
    "## Making a Meowth"
   ]
  },
  {
   "cell_type": "code",
   "execution_count": null,
   "metadata": {},
   "outputs": [],
   "source": [
    "meowth_frequency, my_limit, my_minutes, meowth_minutes = map(int, input().split())\n",
    "\n",
    "pages_i_read = 0\n",
    "reading_time = 0 \n",
    "at_page = 1\n",
    "\n",
    "while True:\n",
    "\n",
    "    if pages_i_read < my_limit:\n",
    "\n",
    "        if at_page % meowth_frequency == 0:\n",
    "            reading_time += meowth_minutes\n",
    "        else: \n",
    "            reading_time += my_minutes\n",
    "            pages_i_read += 1\n",
    "                    \n",
    "        at_page += 1\n",
    "            \n",
    "    else:\n",
    "        if at_page % meowth_frequency == 0:\n",
    "            reading_time += meowth_minutes\n",
    "            break\n",
    "        else: \n",
    "            break\n",
    "\n",
    "print(reading_time)"
   ]
  }
 ],
 "metadata": {
  "language_info": {
   "name": "python"
  }
 },
 "nbformat": 4,
 "nbformat_minor": 2
}
