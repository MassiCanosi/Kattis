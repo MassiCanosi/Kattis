{
 "cells": [
  {
   "cell_type": "markdown",
   "metadata": {},
   "source": [
    "## Saving For Retirement"
   ]
  },
  {
   "cell_type": "code",
   "execution_count": 1,
   "metadata": {},
   "outputs": [],
   "source": [
    "Bob_years, Bob_retired, Bob_saving_per_year, Alice_years, Alice_saving_per_year = map(int, input().split(\" \"))\n",
    "\n",
    "Bob_saving_at_retirement = (Bob_retired - Bob_years)*Bob_saving_per_year\n",
    "\n",
    "poorer = True\n",
    "accum = 1\n",
    "Alice_savings_accum = 0\n",
    "Alice_retired = Alice_years\n",
    "\n",
    "while poorer:\n",
    "\n",
    "    Alice_savings_accum += (Alice_saving_per_year * accum)\n",
    "    Alice_retired += 1\n",
    "    \n",
    "    if Alice_savings_accum > Bob_saving_at_retirement:\n",
    "        poorer = False \n",
    "        break\n",
    "\n",
    "print(Alice_retired)"
   ]
  }
 ],
 "metadata": {
  "kernelspec": {
   "display_name": "base",
   "language": "python",
   "name": "python3"
  },
  "language_info": {
   "codemirror_mode": {
    "name": "ipython",
    "version": 3
   },
   "file_extension": ".py",
   "mimetype": "text/x-python",
   "name": "python",
   "nbconvert_exporter": "python",
   "pygments_lexer": "ipython3",
   "version": "3.11.4"
  }
 },
 "nbformat": 4,
 "nbformat_minor": 2
}
